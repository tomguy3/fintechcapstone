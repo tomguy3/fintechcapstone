{
 "cells": [
  {
   "cell_type": "code",
   "execution_count": 1,
   "id": "1c5dac18-d1a9-48ce-aad1-da964a3b9b71",
   "metadata": {},
   "outputs": [
    {
     "data": {
      "text/plain": [
       "Version('0.8.0')"
      ]
     },
     "execution_count": 1,
     "metadata": {},
     "output_type": "execute_result"
    }
   ],
   "source": [
    "from solcx import compile_standard, install_solc\n",
    "install_solc(\"0.8.0\")"
   ]
  },
  {
   "cell_type": "markdown",
   "id": "a6f417df-1f1e-4349-afeb-01e7135b8c14",
   "metadata": {},
   "source": [
    "## Compile"
   ]
  },
  {
   "cell_type": "code",
   "execution_count": 2,
   "id": "dd54f14b-a681-41c3-8686-c020b763efc1",
   "metadata": {},
   "outputs": [],
   "source": [
    "with open(\"Vesting_Final.sol\", \"r\") as file:\n",
    "    project3 = file.read()"
   ]
  },
  {
   "cell_type": "code",
   "execution_count": 3,
   "id": "8bfbdd58-3b4f-4605-b6d4-e7bdcdbccb55",
   "metadata": {},
   "outputs": [
    {
     "name": "stdout",
     "output_type": "stream",
     "text": [
      "// SPDX-License-Identifier: MIT\n",
      "// OpenZeppelin Contracts (last updated v4.6.0) (finance/VestingWallet.sol)\n",
      "pragma solidity ^0.8.0;\n",
      "\n",
      "// import \"../token/ERC20/utils/SafeERC20.sol\";\n",
      "// import \"../utils/Address.sol\";\n",
      "// import \"../utils/Context.sol\";\n",
      "// import \"../utils/math/Math.sol\";\n",
      "\n",
      "import \"https://github.com/OpenZeppelin/openzeppelin-contracts/blob/master/contracts/token/ERC20/utils/SafeERC20.sol\";\n",
      "import \"https://github.com/OpenZeppelin/openzeppelin-contracts/blob/master/contracts/utils/Address.sol\";\n",
      "import \"https://github.com/OpenZeppelin/openzeppelin-contracts/blob/master/contracts/utils/Context.sol\";\n",
      "import \"https://github.com/OpenZeppelin/openzeppelin-contracts/blob/master/contracts/utils/math/SafeMath.sol\";\n",
      "\n",
      "/**\n",
      " * @title VestingWallet\n",
      " * @dev This contract handles the vesting of Eth and ERC20 tokens for a given beneficiary. Custody of multiple tokens\n",
      " * can be given to this contract, which will release the token to the beneficiary following a given vesting schedule.\n",
      " * The vesting schedule is customizable through the {vestedAmount} function.\n",
      " *\n",
      " * Any token transferred to this contract will follow the vesting schedule as if they were locked from the beginning.\n",
      " * Consequently, if the vesting has already started, any amount of tokens sent to this contract will (at least partly)\n",
      " * be immediately releasable.\n",
      " */\n",
      "contract VestingWallet is Context {\n",
      "    event EtherReleased(uint256 amount);\n",
      "    event ERC20Released(address indexed token, uint256 amount);\n",
      "\n",
      "    uint256 private _released;\n",
      "    mapping(address => uint256) private _erc20Released;\n",
      "    address private immutable _beneficiary;\n",
      "    uint64 private immutable _start;\n",
      "    uint64 private immutable _duration;\n",
      "\n",
      "    /**\n",
      "     * @dev Set the beneficiary, start timestamp and vesting duration of the vesting wallet.\n",
      "     */\n",
      "    constructor(\n",
      "        address beneficiaryAddress,\n",
      "        uint64 startTimestamp,\n",
      "        uint64 durationSeconds\n",
      "    ) {\n",
      "        require(beneficiaryAddress != address(0), \"VestingWallet: beneficiary is zero address\");\n",
      "        _beneficiary = beneficiaryAddress;\n",
      "        _start = startTimestamp;\n",
      "        _duration = durationSeconds;\n",
      "    }\n",
      "\n",
      "    /**\n",
      "     * @dev The contract should be able to receive Eth.\n",
      "     */\n",
      "    receive() external payable virtual {}\n",
      "\n",
      "    /**\n",
      "     * @dev Getter for the beneficiary address.\n",
      "     */\n",
      "    function beneficiary() public view virtual returns (address) {\n",
      "        return _beneficiary;\n",
      "    }\n",
      "\n",
      "    /**\n",
      "     * @dev Getter for the start timestamp.\n",
      "     */\n",
      "    function start() public view virtual returns (uint256) {\n",
      "        return _start;\n",
      "    }\n",
      "\n",
      "    /**\n",
      "     * @dev Getter for the vesting duration.\n",
      "     */\n",
      "    function duration() public view virtual returns (uint256) {\n",
      "        return _duration;\n",
      "    }\n",
      "\n",
      "    /**\n",
      "     * @dev Amount of eth already released\n",
      "     */\n",
      "    function released() public view virtual returns (uint256) {\n",
      "        return _released;\n",
      "    }\n",
      "\n",
      "    /**\n",
      "     * @dev Amount of token already released\n",
      "     */\n",
      "    function released(address token) public view virtual returns (uint256) {\n",
      "        return _erc20Released[token];\n",
      "    }\n",
      "\n",
      "    /**\n",
      "     * @dev Release the native token (ether) that have already vested.\n",
      "     *\n",
      "     * Emits a {EtherReleased} event.\n",
      "     */\n",
      "    function release() public virtual {\n",
      "        uint256 releasable = vestedAmount(uint64(block.timestamp)) - released();\n",
      "        _released += releasable;\n",
      "        emit EtherReleased(releasable);\n",
      "        Address.sendValue(payable(beneficiary()), releasable);\n",
      "    }\n",
      "\n",
      "    /**\n",
      "     * @dev Release the tokens that have already vested.\n",
      "     *\n",
      "     * Emits a {ERC20Released} event.\n",
      "     */\n",
      "    function release(address token) public virtual {\n",
      "        uint256 releasable = vestedAmount(token, uint64(block.timestamp)) - released(token);\n",
      "        _erc20Released[token] += releasable;\n",
      "        emit ERC20Released(token, releasable);\n",
      "        SafeERC20.safeTransfer(IERC20(token), beneficiary(), releasable);\n",
      "    }\n",
      "\n",
      "    /**\n",
      "     * @dev Calculates the amount of ether that has already vested. Default implementation is a linear vesting curve.\n",
      "     */\n",
      "    function vestedAmount(uint64 timestamp) public view virtual returns (uint256) {\n",
      "        return _vestingSchedule(address(this).balance + released(), timestamp);\n",
      "    }\n",
      "\n",
      "    /**\n",
      "     * @dev Calculates the amount of tokens that has already vested. Default implementation is a linear vesting curve.\n",
      "     */\n",
      "    function vestedAmount(address token, uint64 timestamp) public view virtual returns (uint256) {\n",
      "        return _vestingSchedule(IERC20(token).balanceOf(address(this)) + released(token), timestamp);\n",
      "    }\n",
      "\n",
      "    /**\n",
      "     * @dev Virtual implementation of the vesting formula. This returns the amount vested, as a function of time, for\n",
      "     * an asset given its total historical allocation.\n",
      "     */\n",
      "    function _vestingSchedule(uint256 totalAllocation, uint64 timestamp) internal view virtual returns (uint256) {\n",
      "        if (timestamp < start()) {\n",
      "            return 0;\n",
      "        } else if (timestamp > start() + duration()) {\n",
      "            return totalAllocation;\n",
      "        } else {\n",
      "            return (totalAllocation * (timestamp - start())) / duration();\n",
      "        }\n",
      "    }\n",
      "}\n"
     ]
    }
   ],
   "source": [
    "print(project3)"
   ]
  },
  {
   "cell_type": "code",
   "execution_count": 4,
   "id": "a5708a59-40b7-4179-a2c0-09f733d2d967",
   "metadata": {},
   "outputs": [
    {
     "ename": "SolcError",
     "evalue": "ParserError: Source \"https://github.com/OpenZeppelin/openzeppelin-contracts/blob/master/contracts/token/ERC20/utils/SafeERC20.sol\" not found: File outside of allowed directories.\n  --> project 3.sol:10:1:\n   |\n10 | import \"https://github.com/OpenZeppelin/openzeppelin-contracts/blob/master/contracts/token/ERC20/utils/SafeERC20.sol\";\n   | ^^^^^^^^^^^^^^^^^^^^^^^^^^^^^^^^^^^^^^^^^^^^^^^^^^^^^^^^^^^^^^^^^^^^^^^^^^^^^^^^^^^^^^^^^^^^^^^^^^^^^^^^^^^^^^^^^^^^^^\n\n\nParserError: Source \"https://github.com/OpenZeppelin/openzeppelin-contracts/blob/master/contracts/utils/Address.sol\" not found: File outside of allowed directories.\n  --> project 3.sol:11:1:\n   |\n11 | import \"https://github.com/OpenZeppelin/openzeppelin-contracts/blob/master/contracts/utils/Address.sol\";\n   | ^^^^^^^^^^^^^^^^^^^^^^^^^^^^^^^^^^^^^^^^^^^^^^^^^^^^^^^^^^^^^^^^^^^^^^^^^^^^^^^^^^^^^^^^^^^^^^^^^^^^^^^^\n\n\nParserError: Source \"https://github.com/OpenZeppelin/openzeppelin-contracts/blob/master/contracts/utils/Context.sol\" not found: File outside of allowed directories.\n  --> project 3.sol:12:1:\n   |\n12 | import \"https://github.com/OpenZeppelin/openzeppelin-contracts/blob/master/contracts/utils/Context.sol\";\n   | ^^^^^^^^^^^^^^^^^^^^^^^^^^^^^^^^^^^^^^^^^^^^^^^^^^^^^^^^^^^^^^^^^^^^^^^^^^^^^^^^^^^^^^^^^^^^^^^^^^^^^^^^\n\n\nParserError: Source \"https://github.com/OpenZeppelin/openzeppelin-contracts/blob/master/contracts/utils/math/SafeMath.sol\" not found: File outside of allowed directories.\n  --> project 3.sol:13:1:\n   |\n13 | import \"https://github.com/OpenZeppelin/openzeppelin-contracts/blob/master/contracts/utils/math/SafeMath.sol\";\n   | ^^^^^^^^^^^^^^^^^^^^^^^^^^^^^^^^^^^^^^^^^^^^^^^^^^^^^^^^^^^^^^^^^^^^^^^^^^^^^^^^^^^^^^^^^^^^^^^^^^^^^^^^^^^^^^\n\n\n> command: `/Users/joseph/.solcx/solc-v0.8.0 --standard-json`\n> return code: `0`\n> stdout:\n{\"errors\":[{\"component\":\"general\",\"errorCode\":\"6275\",\"formattedMessage\":\"ParserError: Source \\\"https://github.com/OpenZeppelin/openzeppelin-contracts/blob/master/contracts/token/ERC20/utils/SafeERC20.sol\\\" not found: File outside of allowed directories.\\n  --> project 3.sol:10:1:\\n   |\\n10 | import \\\"https://github.com/OpenZeppelin/openzeppelin-contracts/blob/master/contracts/token/ERC20/utils/SafeERC20.sol\\\";\\n   | ^^^^^^^^^^^^^^^^^^^^^^^^^^^^^^^^^^^^^^^^^^^^^^^^^^^^^^^^^^^^^^^^^^^^^^^^^^^^^^^^^^^^^^^^^^^^^^^^^^^^^^^^^^^^^^^^^^^^^^\\n\\n\",\"message\":\"Source \\\"https://github.com/OpenZeppelin/openzeppelin-contracts/blob/master/contracts/token/ERC20/utils/SafeERC20.sol\\\" not found: File outside of allowed directories.\",\"severity\":\"error\",\"sourceLocation\":{\"end\":404,\"file\":\"project 3.sol\",\"start\":286},\"type\":\"ParserError\"},{\"component\":\"general\",\"errorCode\":\"6275\",\"formattedMessage\":\"ParserError: Source \\\"https://github.com/OpenZeppelin/openzeppelin-contracts/blob/master/contracts/utils/Address.sol\\\" not found: File outside of allowed directories.\\n  --> project 3.sol:11:1:\\n   |\\n11 | import \\\"https://github.com/OpenZeppelin/openzeppelin-contracts/blob/master/contracts/utils/Address.sol\\\";\\n   | ^^^^^^^^^^^^^^^^^^^^^^^^^^^^^^^^^^^^^^^^^^^^^^^^^^^^^^^^^^^^^^^^^^^^^^^^^^^^^^^^^^^^^^^^^^^^^^^^^^^^^^^^\\n\\n\",\"message\":\"Source \\\"https://github.com/OpenZeppelin/openzeppelin-contracts/blob/master/contracts/utils/Address.sol\\\" not found: File outside of allowed directories.\",\"severity\":\"error\",\"sourceLocation\":{\"end\":509,\"file\":\"project 3.sol\",\"start\":405},\"type\":\"ParserError\"},{\"component\":\"general\",\"errorCode\":\"6275\",\"formattedMessage\":\"ParserError: Source \\\"https://github.com/OpenZeppelin/openzeppelin-contracts/blob/master/contracts/utils/Context.sol\\\" not found: File outside of allowed directories.\\n  --> project 3.sol:12:1:\\n   |\\n12 | import \\\"https://github.com/OpenZeppelin/openzeppelin-contracts/blob/master/contracts/utils/Context.sol\\\";\\n   | ^^^^^^^^^^^^^^^^^^^^^^^^^^^^^^^^^^^^^^^^^^^^^^^^^^^^^^^^^^^^^^^^^^^^^^^^^^^^^^^^^^^^^^^^^^^^^^^^^^^^^^^^\\n\\n\",\"message\":\"Source \\\"https://github.com/OpenZeppelin/openzeppelin-contracts/blob/master/contracts/utils/Context.sol\\\" not found: File outside of allowed directories.\",\"severity\":\"error\",\"sourceLocation\":{\"end\":614,\"file\":\"project 3.sol\",\"start\":510},\"type\":\"ParserError\"},{\"component\":\"general\",\"errorCode\":\"6275\",\"formattedMessage\":\"ParserError: Source \\\"https://github.com/OpenZeppelin/openzeppelin-contracts/blob/master/contracts/utils/math/SafeMath.sol\\\" not found: File outside of allowed directories.\\n  --> project 3.sol:13:1:\\n   |\\n13 | import \\\"https://github.com/OpenZeppelin/openzeppelin-contracts/blob/master/contracts/utils/math/SafeMath.sol\\\";\\n   | ^^^^^^^^^^^^^^^^^^^^^^^^^^^^^^^^^^^^^^^^^^^^^^^^^^^^^^^^^^^^^^^^^^^^^^^^^^^^^^^^^^^^^^^^^^^^^^^^^^^^^^^^^^^^^^\\n\\n\",\"message\":\"Source \\\"https://github.com/OpenZeppelin/openzeppelin-contracts/blob/master/contracts/utils/math/SafeMath.sol\\\" not found: File outside of allowed directories.\",\"severity\":\"error\",\"sourceLocation\":{\"end\":725,\"file\":\"project 3.sol\",\"start\":615},\"type\":\"ParserError\"}],\"sources\":{}}\n\n> stderr:",
     "output_type": "error",
     "traceback": [
      "\u001b[0;31m---------------------------------------------------------------------------\u001b[0m",
      "\u001b[0;31mSolcError\u001b[0m                                 Traceback (most recent call last)",
      "\u001b[0;32m<ipython-input-4-988444a04108>\u001b[0m in \u001b[0;36m<module>\u001b[0;34m\u001b[0m\n\u001b[1;32m     10\u001b[0m     },\n\u001b[1;32m     11\u001b[0m     },\n\u001b[0;32m---> 12\u001b[0;31m     \u001b[0msolc_version\u001b[0m\u001b[0;34m=\u001b[0m\u001b[0;34m\"0.8.0\"\u001b[0m\u001b[0;34m,\u001b[0m\u001b[0;34m\u001b[0m\u001b[0;34m\u001b[0m\u001b[0m\n\u001b[0m\u001b[1;32m     13\u001b[0m )\n\u001b[1;32m     14\u001b[0m \u001b[0;34m\u001b[0m\u001b[0m\n",
      "\u001b[0;32m~/opt/anaconda3/envs/dev/lib/python3.7/site-packages/solcx/main.py\u001b[0m in \u001b[0;36mcompile_standard\u001b[0;34m(input_data, base_path, allow_paths, output_dir, overwrite, solc_binary, solc_version, allow_empty)\u001b[0m\n\u001b[1;32m    399\u001b[0m                 \u001b[0mstdout_data\u001b[0m\u001b[0;34m=\u001b[0m\u001b[0mstdoutdata\u001b[0m\u001b[0;34m,\u001b[0m\u001b[0;34m\u001b[0m\u001b[0;34m\u001b[0m\u001b[0m\n\u001b[1;32m    400\u001b[0m                 \u001b[0mstderr_data\u001b[0m\u001b[0;34m=\u001b[0m\u001b[0mstderrdata\u001b[0m\u001b[0;34m,\u001b[0m\u001b[0;34m\u001b[0m\u001b[0;34m\u001b[0m\u001b[0m\n\u001b[0;32m--> 401\u001b[0;31m                 \u001b[0merror_dict\u001b[0m\u001b[0;34m=\u001b[0m\u001b[0mcompiler_output\u001b[0m\u001b[0;34m[\u001b[0m\u001b[0;34m\"errors\"\u001b[0m\u001b[0;34m]\u001b[0m\u001b[0;34m,\u001b[0m\u001b[0;34m\u001b[0m\u001b[0;34m\u001b[0m\u001b[0m\n\u001b[0m\u001b[1;32m    402\u001b[0m             )\n\u001b[1;32m    403\u001b[0m     \u001b[0;32mreturn\u001b[0m \u001b[0mcompiler_output\u001b[0m\u001b[0;34m\u001b[0m\u001b[0;34m\u001b[0m\u001b[0m\n",
      "\u001b[0;31mSolcError\u001b[0m: ParserError: Source \"https://github.com/OpenZeppelin/openzeppelin-contracts/blob/master/contracts/token/ERC20/utils/SafeERC20.sol\" not found: File outside of allowed directories.\n  --> project 3.sol:10:1:\n   |\n10 | import \"https://github.com/OpenZeppelin/openzeppelin-contracts/blob/master/contracts/token/ERC20/utils/SafeERC20.sol\";\n   | ^^^^^^^^^^^^^^^^^^^^^^^^^^^^^^^^^^^^^^^^^^^^^^^^^^^^^^^^^^^^^^^^^^^^^^^^^^^^^^^^^^^^^^^^^^^^^^^^^^^^^^^^^^^^^^^^^^^^^^\n\n\nParserError: Source \"https://github.com/OpenZeppelin/openzeppelin-contracts/blob/master/contracts/utils/Address.sol\" not found: File outside of allowed directories.\n  --> project 3.sol:11:1:\n   |\n11 | import \"https://github.com/OpenZeppelin/openzeppelin-contracts/blob/master/contracts/utils/Address.sol\";\n   | ^^^^^^^^^^^^^^^^^^^^^^^^^^^^^^^^^^^^^^^^^^^^^^^^^^^^^^^^^^^^^^^^^^^^^^^^^^^^^^^^^^^^^^^^^^^^^^^^^^^^^^^^\n\n\nParserError: Source \"https://github.com/OpenZeppelin/openzeppelin-contracts/blob/master/contracts/utils/Context.sol\" not found: File outside of allowed directories.\n  --> project 3.sol:12:1:\n   |\n12 | import \"https://github.com/OpenZeppelin/openzeppelin-contracts/blob/master/contracts/utils/Context.sol\";\n   | ^^^^^^^^^^^^^^^^^^^^^^^^^^^^^^^^^^^^^^^^^^^^^^^^^^^^^^^^^^^^^^^^^^^^^^^^^^^^^^^^^^^^^^^^^^^^^^^^^^^^^^^^\n\n\nParserError: Source \"https://github.com/OpenZeppelin/openzeppelin-contracts/blob/master/contracts/utils/math/SafeMath.sol\" not found: File outside of allowed directories.\n  --> project 3.sol:13:1:\n   |\n13 | import \"https://github.com/OpenZeppelin/openzeppelin-contracts/blob/master/contracts/utils/math/SafeMath.sol\";\n   | ^^^^^^^^^^^^^^^^^^^^^^^^^^^^^^^^^^^^^^^^^^^^^^^^^^^^^^^^^^^^^^^^^^^^^^^^^^^^^^^^^^^^^^^^^^^^^^^^^^^^^^^^^^^^^^\n\n\n> command: `/Users/joseph/.solcx/solc-v0.8.0 --standard-json`\n> return code: `0`\n> stdout:\n{\"errors\":[{\"component\":\"general\",\"errorCode\":\"6275\",\"formattedMessage\":\"ParserError: Source \\\"https://github.com/OpenZeppelin/openzeppelin-contracts/blob/master/contracts/token/ERC20/utils/SafeERC20.sol\\\" not found: File outside of allowed directories.\\n  --> project 3.sol:10:1:\\n   |\\n10 | import \\\"https://github.com/OpenZeppelin/openzeppelin-contracts/blob/master/contracts/token/ERC20/utils/SafeERC20.sol\\\";\\n   | ^^^^^^^^^^^^^^^^^^^^^^^^^^^^^^^^^^^^^^^^^^^^^^^^^^^^^^^^^^^^^^^^^^^^^^^^^^^^^^^^^^^^^^^^^^^^^^^^^^^^^^^^^^^^^^^^^^^^^^\\n\\n\",\"message\":\"Source \\\"https://github.com/OpenZeppelin/openzeppelin-contracts/blob/master/contracts/token/ERC20/utils/SafeERC20.sol\\\" not found: File outside of allowed directories.\",\"severity\":\"error\",\"sourceLocation\":{\"end\":404,\"file\":\"project 3.sol\",\"start\":286},\"type\":\"ParserError\"},{\"component\":\"general\",\"errorCode\":\"6275\",\"formattedMessage\":\"ParserError: Source \\\"https://github.com/OpenZeppelin/openzeppelin-contracts/blob/master/contracts/utils/Address.sol\\\" not found: File outside of allowed directories.\\n  --> project 3.sol:11:1:\\n   |\\n11 | import \\\"https://github.com/OpenZeppelin/openzeppelin-contracts/blob/master/contracts/utils/Address.sol\\\";\\n   | ^^^^^^^^^^^^^^^^^^^^^^^^^^^^^^^^^^^^^^^^^^^^^^^^^^^^^^^^^^^^^^^^^^^^^^^^^^^^^^^^^^^^^^^^^^^^^^^^^^^^^^^^\\n\\n\",\"message\":\"Source \\\"https://github.com/OpenZeppelin/openzeppelin-contracts/blob/master/contracts/utils/Address.sol\\\" not found: File outside of allowed directories.\",\"severity\":\"error\",\"sourceLocation\":{\"end\":509,\"file\":\"project 3.sol\",\"start\":405},\"type\":\"ParserError\"},{\"component\":\"general\",\"errorCode\":\"6275\",\"formattedMessage\":\"ParserError: Source \\\"https://github.com/OpenZeppelin/openzeppelin-contracts/blob/master/contracts/utils/Context.sol\\\" not found: File outside of allowed directories.\\n  --> project 3.sol:12:1:\\n   |\\n12 | import \\\"https://github.com/OpenZeppelin/openzeppelin-contracts/blob/master/contracts/utils/Context.sol\\\";\\n   | ^^^^^^^^^^^^^^^^^^^^^^^^^^^^^^^^^^^^^^^^^^^^^^^^^^^^^^^^^^^^^^^^^^^^^^^^^^^^^^^^^^^^^^^^^^^^^^^^^^^^^^^^\\n\\n\",\"message\":\"Source \\\"https://github.com/OpenZeppelin/openzeppelin-contracts/blob/master/contracts/utils/Context.sol\\\" not found: File outside of allowed directories.\",\"severity\":\"error\",\"sourceLocation\":{\"end\":614,\"file\":\"project 3.sol\",\"start\":510},\"type\":\"ParserError\"},{\"component\":\"general\",\"errorCode\":\"6275\",\"formattedMessage\":\"ParserError: Source \\\"https://github.com/OpenZeppelin/openzeppelin-contracts/blob/master/contracts/utils/math/SafeMath.sol\\\" not found: File outside of allowed directories.\\n  --> project 3.sol:13:1:\\n   |\\n13 | import \\\"https://github.com/OpenZeppelin/openzeppelin-contracts/blob/master/contracts/utils/math/SafeMath.sol\\\";\\n   | ^^^^^^^^^^^^^^^^^^^^^^^^^^^^^^^^^^^^^^^^^^^^^^^^^^^^^^^^^^^^^^^^^^^^^^^^^^^^^^^^^^^^^^^^^^^^^^^^^^^^^^^^^^^^^^\\n\\n\",\"message\":\"Source \\\"https://github.com/OpenZeppelin/openzeppelin-contracts/blob/master/contracts/utils/math/SafeMath.sol\\\" not found: File outside of allowed directories.\",\"severity\":\"error\",\"sourceLocation\":{\"end\":725,\"file\":\"project 3.sol\",\"start\":615},\"type\":\"ParserError\"}],\"sources\":{}}\n\n> stderr:"
     ]
    }
   ],
   "source": [
    "compiled_sol = compile_standard(\n",
    "    {\n",
    "    \"language\": \"Solidity\",\n",
    "    \"sources\": {\"project 3.sol\": {\"content\": project3}},\n",
    "    \"settings\" : {\n",
    "        \"outputSelection\": {\n",
    "            \"*\" : {\n",
    "                \"*\": [\"abi\", \"metadata\", \"evm.bytecode\", \"evm.sourceMap\"]}\n",
    "        }\n",
    "    },\n",
    "    },\n",
    "    solc_version=\"0.8.0\",\n",
    ")\n",
    "\n",
    "print(compiled_sol)"
   ]
  },
  {
   "cell_type": "code",
   "execution_count": null,
   "id": "62b20e47-748d-4ac5-be58-9116888deb80",
   "metadata": {},
   "outputs": [],
   "source": [
    "import json\n",
    "with open(\"compiled_code.json\", \"w\") as file:\n",
    "    json.dump(compiled_sol, file)\n",
    "    "
   ]
  },
  {
   "cell_type": "markdown",
   "id": "5cfd56ba-09e6-4885-8458-ac1b2127b75f",
   "metadata": {},
   "source": [
    "## Deploy"
   ]
  },
  {
   "cell_type": "code",
   "execution_count": null,
   "id": "e51b3fcf-184b-4ffc-9a50-b3c535f76b9c",
   "metadata": {},
   "outputs": [],
   "source": [
    "#bytecode\n",
    "bytecode = compiled_sol[\"contracts\"][\"project 3.sol\"][\"VestingWallet\"][\"evm\"][\"bytecode\"][\"object\"]\n",
    "\n",
    "\n",
    "abi = compiled_sol[\"contracts\"][\"project 3.sol\"][\"VestingWallet\"][\"abi\"]\n",
    "\n"
   ]
  },
  {
   "cell_type": "code",
   "execution_count": null,
   "id": "a0f71b7e-025b-4648-b07b-c2328660c81f",
   "metadata": {},
   "outputs": [],
   "source": [
    "print(bytecode)"
   ]
  },
  {
   "cell_type": "code",
   "execution_count": null,
   "id": "7f919ad8-ddfe-41ca-963f-71d00702439f",
   "metadata": {},
   "outputs": [],
   "source": [
    "print(abi)"
   ]
  },
  {
   "cell_type": "code",
   "execution_count": null,
   "id": "cfac6bbd-1b3d-4aac-950d-1c6730ea9fc6",
   "metadata": {},
   "outputs": [],
   "source": [
    "#where to deploy???\n",
    "from web3 import Web3 \n",
    "\n",
    "#for connecting to ganache\n",
    "\n",
    "w3 = Web3(Web3.HTTPProvider(\"HTTP://127.0.0.1:7545\"))"
   ]
  },
  {
   "cell_type": "code",
   "execution_count": null,
   "id": "a259b88d-bed3-40e8-870e-37b02b7a4b5e",
   "metadata": {},
   "outputs": [],
   "source": [
    "chain_id = 5777\n",
    "\n",
    "my_address = \"0x63f42543Ec8C23B2e81097e58Ed57d5c435b9245\"\n",
    "\n",
    "private_key= \"4a2dc6c47ddbf6d2bbb5fc1eee13bdf0d108decd46f4224e4739a32ab9a4d46b\"\n",
    "\n",
    "#Creating the contract\n",
    "Vesting_wallet_rc = w3.eth.contract(abi=abi, bytecode=bytecode)"
   ]
  },
  {
   "cell_type": "code",
   "execution_count": null,
   "id": "f415ffa2-9d7a-4ce2-b974-e290f1f85b23",
   "metadata": {},
   "outputs": [],
   "source": [
    "print(Vesting_wallet_rc)"
   ]
  },
  {
   "cell_type": "code",
   "execution_count": null,
   "id": "9fceca0b-280a-46a0-8683-21bc34571d37",
   "metadata": {},
   "outputs": [],
   "source": [
    "#Build, sign, send, transaction\n",
    "\n",
    "#Get latest transaction\n",
    "\n",
    "nonce = w3.eth.getTransactionCount(my_address)"
   ]
  },
  {
   "cell_type": "code",
   "execution_count": null,
   "id": "a4b79eb2-72d8-4d26-b9b8-aa250b2a470d",
   "metadata": {},
   "outputs": [],
   "source": [
    "print(nonce)"
   ]
  },
  {
   "cell_type": "code",
   "execution_count": null,
   "id": "99b87360-6ae2-4611-b901-9dc69ad5dc75",
   "metadata": {},
   "outputs": [],
   "source": []
  },
  {
   "cell_type": "code",
   "execution_count": null,
   "id": "7560de7d-933e-45c0-9dfb-51dd256eaefa",
   "metadata": {},
   "outputs": [],
   "source": [
    "beneficiaryAddress = compiled_sol[\"contracts\"][\"project 3.sol\"][\"VestingWallet\"][\"abi\"][0][\"inputs\"][0]\n",
    "startTimestamp = compiled_sol[\"contracts\"][\"project 3.sol\"][\"VestingWallet\"][\"abi\"][0][\"inputs\"][1]\n",
    "durationSeconds= compiled_sol[\"contracts\"][\"project 3.sol\"][\"VestingWallet\"][\"abi\"][0][\"inputs\"][2]\n"
   ]
  },
  {
   "cell_type": "code",
   "execution_count": null,
   "id": "9d076fc3-6fdb-45ea-a6c4-692c88dd1897",
   "metadata": {},
   "outputs": [],
   "source": [
    "transaction = Vesting_wallet_rc.constructor(beneficiaryAddress, startTimestamp, durationSeconds).buildTransaction(\n",
    "    {\"chainId\":chain_id, \"from\": my_address, \"nonce\": nonce}\n",
    ")\n",
    "#transaction = Vesting_wallet_rc.constructor().transact()"
   ]
  },
  {
   "cell_type": "code",
   "execution_count": null,
   "id": "eac4fcb2-5fb2-4638-b986-d52dfc726b5c",
   "metadata": {},
   "outputs": [],
   "source": [
    "#sign transaction\n",
    "signed_tx = w3.eth.account.sign_transaction(transaction, private_key = private_key)\n",
    "\n",
    "print(signed_tx)"
   ]
  },
  {
   "cell_type": "code",
   "execution_count": null,
   "id": "ee53f552-3e8f-458f-a858-9ea2a6c8ed8c",
   "metadata": {},
   "outputs": [],
   "source": [
    "# sending signed transaction\n",
    "\n",
    "tx_hash = w3.eth.send_raw_transaction(signed_tx.rawTransaction)\n",
    "#block confirmation\n",
    "tx_receipt =w3.eth.wait_for_transaction_receipt(tx_hash)"
   ]
  },
  {
   "cell_type": "code",
   "execution_count": null,
   "id": "2f4fe9c2-e2a6-4c3f-bcd5-bfacda599dda",
   "metadata": {},
   "outputs": [],
   "source": [
    "#working with the contract (address, abi)\n",
    "\n",
    "vesting_wallet_contract_inter = w3.eth.contract(addrress=tx_receipt.contractAddress, abi= abi)\n",
    "\n",
    "# calling functions from contract\n",
    "\n",
    "#call=call and return value/transact =actually make a change\n",
    "\n",
    "vestedAmount1=vesting_wallet_contract_inter.functions.vestedAmount().call()\n",
    "vestedAmount2= vesting_wallet_contract_inter.functions.vestedAmount().call()\n",
    "start = vesting_wallet_contract_inter.functions.start().call()\n",
    "released1= vesting_wallet_contract_inter.functions.released().call()\n",
    "released2= vesting_wallet_contract_inter.functions.released().call()\n",
    "duration= vesting_wallet_contract_inter.functions.duration().call()\n",
    "beneficiary=vesting_wallet_contract_inter.functions.beneficiary().call()\n",
    "release1=vesting_wallet_contract_inter.functions.release().call()\n",
    "release2= vesting_wallet_contract_inter.functions.release().call()\n",
    "\n",
    "#to build and store value onto contract use vesting_wallet_contract_inter.functions.---.buildTransaction( {\"chainId\":chain_id, \"from\": my_address, \"nonce\": nonce + 1})"
   ]
  },
  {
   "cell_type": "code",
   "execution_count": null,
   "id": "f02f2aae-fd8f-423b-9edd-9978c40d233a",
   "metadata": {},
   "outputs": [],
   "source": [
    "#signed transactions for functions\n",
    "\n",
    "signed_function_txn = w3.eth.account.signed_transaction(#function, private_key=private_key)"
   ]
  },
  {
   "cell_type": "code",
   "execution_count": null,
   "id": "7c765596-2bcd-4de1-9696-852b5756b3fb",
   "metadata": {},
   "outputs": [],
   "source": [
    "#send transaction\n",
    "\n",
    "transaction_function_hash = w3.eth.send_raw_transaction(signed_function_txn.rawTransaction)\n",
    "function_receipt=w3.eth.wait_for_transaction_receipt()"
   ]
  }
 ],
 "metadata": {
  "kernelspec": {
   "display_name": "Python 3",
   "language": "python",
   "name": "python3"
  },
  "language_info": {
   "codemirror_mode": {
    "name": "ipython",
    "version": 3
   },
   "file_extension": ".py",
   "mimetype": "text/x-python",
   "name": "python",
   "nbconvert_exporter": "python",
   "pygments_lexer": "ipython3",
   "version": "3.7.10"
  }
 },
 "nbformat": 4,
 "nbformat_minor": 5
}
