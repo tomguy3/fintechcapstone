{
 "cells": [
  {
   "cell_type": "code",
   "execution_count": 2,
   "id": "115b8ef7-bc0c-4431-9bdf-7e882ab5b0df",
   "metadata": {},
   "outputs": [],
   "source": [
    "import web3 as w3"
   ]
  },
  {
   "cell_type": "code",
   "execution_count": 3,
   "id": "007d9c9e-2161-487f-b53c-a30ad9638b02",
   "metadata": {},
   "outputs": [
    {
     "ename": "TypeError",
     "evalue": "compile_solc() got an unexpected keyword argument 'output_values'",
     "output_type": "error",
     "traceback": [
      "\u001b[0;31m---------------------------------------------------------------------------\u001b[0m",
      "\u001b[0;31mTypeError\u001b[0m                                 Traceback (most recent call last)",
      "\u001b[0;32m/var/folders/mn/f8f4nbqx111gc8b3lcvtc_n80000gp/T/ipykernel_79954/3088595829.py\u001b[0m in \u001b[0;36m<module>\u001b[0;34m\u001b[0m\n\u001b[1;32m      1\u001b[0m \u001b[0;32mfrom\u001b[0m \u001b[0msolcx\u001b[0m \u001b[0;32mimport\u001b[0m \u001b[0mcompile_solc\u001b[0m\u001b[0;34m\u001b[0m\u001b[0;34m\u001b[0m\u001b[0m\n\u001b[1;32m      2\u001b[0m \u001b[0;34m\u001b[0m\u001b[0m\n\u001b[0;32m----> 3\u001b[0;31m compiled_solidity = compile_solc(\n\u001b[0m\u001b[1;32m      4\u001b[0m     '''\n\u001b[1;32m      5\u001b[0m \u001b[0;34m//\u001b[0m \u001b[0mSPDX\u001b[0m\u001b[0;34m-\u001b[0m\u001b[0mLicense\u001b[0m\u001b[0;34m-\u001b[0m\u001b[0mIdentifier\u001b[0m\u001b[0;34m:\u001b[0m \u001b[0mMIT\u001b[0m\u001b[0;34m\u001b[0m\u001b[0;34m\u001b[0m\u001b[0m\n",
      "\u001b[0;31mTypeError\u001b[0m: compile_solc() got an unexpected keyword argument 'output_values'"
     ]
    }
   ],
   "source": [
    "from solcx import compile_solc\n",
    "\n",
    "compiled_solidity = compile_solc(\n",
    "    '''\n",
    "// SPDX-License-Identifier: MIT\n",
    "// OpenZeppelin Contracts (last updated v4.6.0) (finance/VestingWallet.sol)\n",
    "pragma solidity ^0.8.0;\n",
    "\n",
    "import \"https://github.com/OpenZeppelin/openzeppelin-contracts/blob/master/contracts/token/ERC20/utils/SafeERC20.sol\";\n",
    "import \"https://github.com/OpenZeppelin/openzeppelin-contracts/blob/master/contracts/utils/Address.sol\";\n",
    "import \"https://github.com/OpenZeppelin/openzeppelin-contracts/blob/master/contracts/utils/Context.sol\";\n",
    "import \"https://github.com/OpenZeppelin/openzeppelin-contracts/blob/master/contracts/utils/math/Math.sol\";\n",
    "\n",
    "/**\n",
    " * @title VestingWallet\n",
    " * @dev This contract handles the vesting of Eth and ERC20 tokens for a given beneficiary. Custody of multiple tokens\n",
    " * can be given to this contract, which will release the token to the beneficiary following a given vesting schedule.\n",
    " * The vesting schedule is customizable through the {vestedAmount} function.\n",
    " *\n",
    " * Any token transferred to this contract will follow the vesting schedule as if they were locked from the beginning.\n",
    " * Consequently, if the vesting has already started, any amount of tokens sent to this contract will (at least partly)\n",
    " * be immediately releasable.\n",
    " */\n",
    "contract VestingWallet is Context {\n",
    "    event EtherReleased(uint256 amount);\n",
    "    event ERC20Released(address indexed token, uint256 amount);\n",
    "\n",
    "    uint256 private _released;\n",
    "    mapping(address => uint256) private _erc20Released;\n",
    "    address private immutable _beneficiary;\n",
    "    uint64 private immutable _start;\n",
    "    uint64 private immutable _duration;\n",
    "\n",
    "    /**\n",
    "     * @dev Set the beneficiary, start timestamp and vesting duration of the vesting wallet.\n",
    "     */\n",
    "    constructor(\n",
    "        address beneficiaryAddress,\n",
    "        uint64 startTimestamp,\n",
    "        uint64 durationSeconds\n",
    "    ) public {\n",
    "        require(beneficiaryAddress != address(0), \"VestingWallet: beneficiary is zero address\");\n",
    "         _beneficiary = beneficiaryAddress;\n",
    "         _start = startTimestamp;\n",
    "         _duration = durationSeconds;\n",
    "    }\n",
    "\n",
    "    /**\n",
    "     * @dev The contract should be able to receive Eth.\n",
    "     */\n",
    "    receive() external payable virtual {}\n",
    "\n",
    "    /**\n",
    "     * @dev Getter for the beneficiary address.\n",
    "     */\n",
    "    function beneficiary() public view virtual returns (address) {\n",
    "        return _beneficiary;\n",
    "    }\n",
    "\n",
    "    /**\n",
    "     * @dev Getter for the start timestamp.\n",
    "     */\n",
    "    function start() public view virtual returns (uint256) {\n",
    "        return _start;\n",
    "    }\n",
    "\n",
    "    /**\n",
    "     * @dev Getter for the vesting duration.\n",
    "     */\n",
    "    function duration() public view virtual returns (uint256) {\n",
    "        return _duration;\n",
    "    }\n",
    "\n",
    "    /**\n",
    "     * @dev Amount of eth already released\n",
    "     */\n",
    "    function released() public view virtual returns (uint256) {\n",
    "        return _released;\n",
    "    }\n",
    "\n",
    "    /**\n",
    "     * @dev Amount of token already released\n",
    "     */\n",
    "    function released(address token) public view virtual returns (uint256) {\n",
    "        return _erc20Released[token];\n",
    "    }\n",
    "\n",
    "    /**\n",
    "     * @dev Release the native token (ether) that have already vested.\n",
    "     *\n",
    "     * Emits a {EtherReleased} event.\n",
    "     */\n",
    "    function release() public virtual {\n",
    "        uint256 releasable = vestedAmount(uint64(block.timestamp)) - released();\n",
    "        _released += releasable;\n",
    "        emit EtherReleased(releasable);\n",
    "        Address.sendValue(payable(beneficiary()), releasable);\n",
    "    }\n",
    "\n",
    "    /**\n",
    "     * @dev Release the tokens that have already vested.\n",
    "     *\n",
    "     * Emits a {ERC20Released} event.\n",
    "     */\n",
    "    function release(address token) public virtual {\n",
    "        uint256 releasable = vestedAmount(token, uint64(block.timestamp)) - released(token);\n",
    "        _erc20Released[token] += releasable;\n",
    "        emit ERC20Released(token, releasable);\n",
    "        SafeERC20.safeTransfer(IERC20(token), beneficiary(), releasable);\n",
    "    }\n",
    "\n",
    "    /**\n",
    "     * @dev Calculates the amount of ether that has already vested. Default implementation is a linear vesting curve.\n",
    "     */\n",
    "    function vestedAmount(uint64 timestamp) public view virtual returns (uint256) {\n",
    "        return _vestingSchedule(address(this).balance + released(), timestamp);\n",
    "    }\n",
    "\n",
    "    /**\n",
    "     * @dev Calculates the amount of tokens that has already vested. Default implementation is a linear vesting curve.\n",
    "     */\n",
    "    function vestedAmount(address token, uint64 timestamp) public view virtual returns (uint256) {\n",
    "        return _vestingSchedule(IERC20(token).balanceOf(address(this)) + released(token), timestamp);\n",
    "    }\n",
    "\n",
    "    /**\n",
    "     * @dev Virtual implementation of the vesting formula. This returns the amount vested, as a function of time, for\n",
    "     * an asset given its total historical allocation.\n",
    "     */\n",
    "    function _vestingSchedule(uint256 totalAllocation, uint64 timestamp) internal view virtual returns (uint256) {\n",
    "        if (timestamp < start()) {\n",
    "            return 0;\n",
    "        } else if (timestamp > start() + duration()) {\n",
    "            return totalAllocation;\n",
    "        } else {\n",
    "            return (totalAllocation * (timestamp - start())) / duration();\n",
    "        }\n",
    "    }\n",
    "}\n",
    "''', output_values = ['abi', 'bin'] )"
   ]
  },
  {
   "cell_type": "code",
   "execution_count": 5,
   "id": "5ae15488-80c6-41cc-ab9e-311c4e1a8fc3",
   "metadata": {},
   "outputs": [
    {
     "ename": "NameError",
     "evalue": "name 'compiled_solidity' is not defined",
     "output_type": "error",
     "traceback": [
      "\u001b[0;31m---------------------------------------------------------------------------\u001b[0m",
      "\u001b[0;31mNameError\u001b[0m                                 Traceback (most recent call last)",
      "\u001b[0;32m/var/folders/mn/f8f4nbqx111gc8b3lcvtc_n80000gp/T/ipykernel_79954/2930012628.py\u001b[0m in \u001b[0;36m<module>\u001b[0;34m\u001b[0m\n\u001b[0;32m----> 1\u001b[0;31m \u001b[0mcompiled_solidity\u001b[0m\u001b[0;34m\u001b[0m\u001b[0;34m\u001b[0m\u001b[0m\n\u001b[0m",
      "\u001b[0;31mNameError\u001b[0m: name 'compiled_solidity' is not defined"
     ]
    }
   ],
   "source": [
    "compiled_solidity"
   ]
  },
  {
   "cell_type": "code",
   "execution_count": null,
   "id": "df3b38f4-d578-4f21-9291-88c91c255349",
   "metadata": {},
   "outputs": [],
   "source": [
    "contract_id, contract_interface = compiled_solidity.popitem()\n",
    "\n",
    "print(contract_id)"
   ]
  },
  {
   "cell_type": "code",
   "execution_count": null,
   "id": "14711dc7-97e0-43f3-a91e-f4776fe2a42e",
   "metadata": {},
   "outputs": [],
   "source": [
    "print(contract_interface)"
   ]
  },
  {
   "cell_type": "code",
   "execution_count": null,
   "id": "ce6d1d2e-36d1-47c4-805d-e8d05ef7aa1e",
   "metadata": {},
   "outputs": [],
   "source": [
    "contract_interface['abi']"
   ]
  },
  {
   "cell_type": "code",
   "execution_count": null,
   "id": "ea8f92e7-81ca-4c33-a87c-b605b251654b",
   "metadata": {},
   "outputs": [],
   "source": [
    "contrace_interface['bin']"
   ]
  },
  {
   "cell_type": "code",
   "execution_count": 3,
   "id": "8b824129-cc61-4286-bc40-a46f9bd48d2e",
   "metadata": {},
   "outputs": [
    {
     "name": "stderr",
     "output_type": "stream",
     "text": [
      "/Users/cliffordcharles/opt/anaconda3/lib/python3.9/site-packages/eth_tester/backends/__init__.py:30: UserWarning: Ethereum Tester: No backend was explicitely set, and no *full* backends were available.  Falling back to the `MockBackend` which does not support all EVM functionality.  Please refer to the `eth-tester` documentation for information on what backends are available and how to set them.\n",
      "  warnings.warn(UserWarning(\n"
     ]
    },
    {
     "ename": "TypeError",
     "evalue": "'module' object is not callable",
     "output_type": "error",
     "traceback": [
      "\u001b[0;31m---------------------------------------------------------------------------\u001b[0m",
      "\u001b[0;31mTypeError\u001b[0m                                 Traceback (most recent call last)",
      "\u001b[0;32m/var/folders/mn/f8f4nbqx111gc8b3lcvtc_n80000gp/T/ipykernel_79067/1493707237.py\u001b[0m in \u001b[0;36m<module>\u001b[0;34m\u001b[0m\n\u001b[1;32m      1\u001b[0m \u001b[0;31m# provider for node\u001b[0m\u001b[0;34m\u001b[0m\u001b[0;34m\u001b[0m\u001b[0m\n\u001b[0;32m----> 2\u001b[0;31m \u001b[0mweb3\u001b[0m\u001b[0;34m=\u001b[0m\u001b[0mw3\u001b[0m\u001b[0;34m(\u001b[0m\u001b[0mw3\u001b[0m\u001b[0;34m.\u001b[0m\u001b[0mEthereumTesterProvider\u001b[0m\u001b[0;34m(\u001b[0m\u001b[0;34m)\u001b[0m\u001b[0;34m)\u001b[0m\u001b[0;34m\u001b[0m\u001b[0;34m\u001b[0m\u001b[0m\n\u001b[0m\u001b[1;32m      3\u001b[0m \u001b[0;31m#prefunded account as sender\u001b[0m\u001b[0;34m\u001b[0m\u001b[0;34m\u001b[0m\u001b[0m\n\u001b[1;32m      4\u001b[0m \u001b[0mw3\u001b[0m\u001b[0;34m.\u001b[0m\u001b[0meth\u001b[0m\u001b[0;34m.\u001b[0m\u001b[0mdefault_account\u001b[0m \u001b[0;34m=\u001b[0m \u001b[0mw3\u001b[0m\u001b[0;34m.\u001b[0m\u001b[0meth\u001b[0m\u001b[0;34m.\u001b[0m\u001b[0maccounts\u001b[0m\u001b[0;34m[\u001b[0m\u001b[0;36m0\u001b[0m\u001b[0;34m]\u001b[0m\u001b[0;34m\u001b[0m\u001b[0;34m\u001b[0m\u001b[0m\n",
      "\u001b[0;31mTypeError\u001b[0m: 'module' object is not callable"
     ]
    }
   ],
   "source": [
    "# provider for node\n",
    "\n",
    "web3=w3(w3.EthereumTesterProvider())\n",
    "\n",
    "#prefunded account as sender\n",
    "\n",
    "w3.eth.default_account = w3.eth.accounts[0]\n",
    "\n",
    "abi = contract_interface[abi]\n",
    "\n",
    "project3 = w3.eth.contract(abi = abi, bytecode=bytecode)\n",
    "print(project3)"
   ]
  },
  {
   "cell_type": "code",
   "execution_count": null,
   "id": "0ba4d10b-89fb-4d8f-9496-891c083cf37f",
   "metadata": {},
   "outputs": [],
   "source": [
    "tx_hash = project3.constructor().transact()\n",
    "\n",
    "tx_hash"
   ]
  },
  {
   "cell_type": "code",
   "execution_count": null,
   "id": "f8899670-7756-4940-b83b-1d3e045e35c9",
   "metadata": {},
   "outputs": [],
   "source": [
    "tx_receipt=w3.eth.wait_for_transaction_receipt(tx_hash=tx_hash)\n",
    "\n",
    "tx_receipt"
   ]
  },
  {
   "cell_type": "code",
   "execution_count": null,
   "id": "40d9cfbc-db96-4452-93d6-9090bc327d39",
   "metadata": {},
   "outputs": [],
   "source": [
    "#use address to get the contract\n",
    "project3Contract = w3.eth.contract(address = tx_receipt.contractAddress,\n",
    "                                  abi = abi)\n",
    "\n",
    "project3Contract "
   ]
  },
  {
   "cell_type": "code",
   "execution_count": null,
   "id": "865cdb69-54c9-4b16-a5b3-83647536267a",
   "metadata": {},
   "outputs": [],
   "source": [
    "#call functions from contract\n",
    "\n",
    "project3Contract.functions.vestedAmount().call()\n"
   ]
  },
  {
   "cell_type": "code",
   "execution_count": null,
   "id": "82feab13-fd65-4924-8423-0d32d24fe081",
   "metadata": {},
   "outputs": [],
   "source": [
    "#modify transactions (will cost gas)\n",
    "bye_hash = project3Contract.functions.vestedAmount().transact()"
   ]
  },
  {
   "cell_type": "code",
   "execution_count": null,
   "id": "4a3a4ec3-c5da-4147-830d-a2352cf7e6ae",
   "metadata": {},
   "outputs": [],
   "source": [
    "bye_hash"
   ]
  },
  {
   "cell_type": "code",
   "execution_count": null,
   "id": "4f3713d9-2f45-4240-9308-4c0dd4019db2",
   "metadata": {},
   "outputs": [],
   "source": [
    "bye_receipt = w3.eth.wait_for_transaction_receipt(bye_hash)"
   ]
  },
  {
   "cell_type": "code",
   "execution_count": null,
   "id": "11db2d99-6aec-409c-8aa6-89102c6837c1",
   "metadata": {},
   "outputs": [],
   "source": [
    "bye_receipt"
   ]
  }
 ],
 "metadata": {
  "kernelspec": {
   "display_name": "Python 3 (ipykernel)",
   "language": "python",
   "name": "python3"
  },
  "language_info": {
   "codemirror_mode": {
    "name": "ipython",
    "version": 3
   },
   "file_extension": ".py",
   "mimetype": "text/x-python",
   "name": "python",
   "nbconvert_exporter": "python",
   "pygments_lexer": "ipython3",
   "version": "3.9.7"
  }
 },
 "nbformat": 4,
 "nbformat_minor": 5
}
